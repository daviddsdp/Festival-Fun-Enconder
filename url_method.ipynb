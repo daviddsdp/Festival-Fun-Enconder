{
  "nbformat": 4,
  "nbformat_minor": 0,
  "metadata": {
    "colab": {
      "name": "url.method",
      "provenance": [],
      "collapsed_sections": [],
      "toc_visible": true,
      "authorship_tag": "ABX9TyNguIm2OS9PHxDtXgGQXNhr",
      "include_colab_link": true
    },
    "kernelspec": {
      "name": "python3",
      "display_name": "Python 3"
    }
  },
  "cells": [
    {
      "cell_type": "markdown",
      "metadata": {
        "id": "view-in-github",
        "colab_type": "text"
      },
      "source": [
        "<a href=\"https://colab.research.google.com/github/daviddsdp/Festival-Fun-Enconder/blob/master/url_method.ipynb\" target=\"_parent\"><img src=\"https://colab.research.google.com/assets/colab-badge.svg\" alt=\"Open In Colab\"/></a>"
      ]
    },
    {
      "cell_type": "code",
      "metadata": {
        "id": "G7zxfa-leKLX",
        "colab_type": "code",
        "colab": {}
      },
      "source": [
        "from urllib import request\n",
        "url = input(\"paste here your html\")\n",
        "response = request.urlopen(url)\n",
        "raw = response.read().decode('utf8')\n",
        "print(raw)"
      ],
      "execution_count": 0,
      "outputs": []
    },
    {
      "cell_type": "code",
      "metadata": {
        "id": "YzMQnXR6o_Jn",
        "colab_type": "code",
        "colab": {}
      },
      "source": [
        "import re\n",
        " \n",
        " \n",
        "print (raw.replace(input(\"old:\"),input(\"new:\")))"
      ],
      "execution_count": 0,
      "outputs": []
    }
  ]
}