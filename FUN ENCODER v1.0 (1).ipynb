{
 "cells": [
  {
   "cell_type": "code",
   "execution_count": null,
   "metadata": {
    "scrolled": false
   },
   "outputs": [
    {
     "name": "stdout",
     "output_type": "stream",
     "text": [
      "paste here your encoded fun, then where and when you offer it us:········\n",
      "tell me please about your fun. Then when and where youre looking for. One word per input is enough: kölln\n",
      "something happen let you know!\n",
      "tell me please about your fun. Then when and where youre looking for. One word per input is enough: Bier\n",
      "notting happen around the world.\n",
      "tell me please about your fun. Then when and where youre looking for. One word per input is enough: Salami \n",
      "notting happen around the world.\n",
      "tell me please about your fun. Then when and where youre looking for. One word per input is enough:Love \n",
      "notting happen around the world.\n"
     ]
    }
   ],
   "source": [
    "import re\n",
    "import getpass\n",
    "\n",
    "a = getpass.getpass('paste here your encoded fun, then where and when you offer it us:') # offer(lower case) \n",
    "a = a.replace(\" \",\"|\").replace(\".\",\"|\")\n",
    "a = a.lstrip() \n",
    "\n",
    "\n",
    "    \n",
    "\n",
    "while True:\n",
    "    b = input('tell me please about your fun. Then when and where youre looking for. One word per input is enough:') # demand(lower case)\n",
    "    b = b.lstrip() \n",
    "    c = re.search(b,a)\n",
    "    if c:    \n",
    "        print('something happen let you know!') # answer1\n",
    "    else:\n",
    "        print('notting happen around the world.') # answer2  \n"
   ]
  },
  {
   "cell_type": "code",
   "execution_count": null,
   "metadata": {},
   "outputs": [],
   "source": []
  },
  {
   "cell_type": "code",
   "execution_count": null,
   "metadata": {},
   "outputs": [],
   "source": []
  }
 ],
 "metadata": {
  "kernelspec": {
   "display_name": "Python 3",
   "language": "python",
   "name": "python3"
  },
  "language_info": {
   "codemirror_mode": {
    "name": "ipython",
    "version": 3
   },
   "file_extension": ".py",
   "mimetype": "text/x-python",
   "name": "python",
   "nbconvert_exporter": "python",
   "pygments_lexer": "ipython3",
   "version": "3.7.3"
  }
 },
 "nbformat": 4,
 "nbformat_minor": 2
}
