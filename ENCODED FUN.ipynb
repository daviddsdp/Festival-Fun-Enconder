{
 "cells": [
  {
   "cell_type": "code",
   "execution_count": null,
   "metadata": {
    "scrolled": true
   },
   "outputs": [],
   "source": [
    "import re\n",
    "\n",
    "def replace_all(repls, str):\n",
    "\n",
    "    return re.sub('|'.join(re.escape(key) for key in repls.keys()),\n",
    "                 lambda k: repls[k.group(0)], str) \n",
    "\n",
    "\n",
    "\n",
    "a = input('Paste here your encoded fun, then where & when you offering us:')\n",
    "\n",
    "\n",
    "\n",
    "while True:\n",
    "    b = input('Tell us please about your fun. Then where & when youre looking for:')\n",
    "    \n",
    "    if re.findall(b,a,re.VERBOSE):\n",
    "        print('Something happen let you know!')\n",
    "    \n",
    "    else:\n",
    "        print('Nothing happen around the world') \n",
    "        \n"
   ]
  },
  {
   "cell_type": "code",
   "execution_count": null,
   "metadata": {},
   "outputs": [],
   "source": []
  },
  {
   "cell_type": "code",
   "execution_count": null,
   "metadata": {},
   "outputs": [],
   "source": []
  }
 ],
 "metadata": {
  "kernelspec": {
   "display_name": "Python 3",
   "language": "python",
   "name": "python3"
  },
  "language_info": {
   "codemirror_mode": {
    "name": "ipython",
    "version": 3
   },
   "file_extension": ".py",
   "mimetype": "text/x-python",
   "name": "python",
   "nbconvert_exporter": "python",
   "pygments_lexer": "ipython3",
   "version": "3.6.4"
  }
 },
 "nbformat": 4,
 "nbformat_minor": 2
}
