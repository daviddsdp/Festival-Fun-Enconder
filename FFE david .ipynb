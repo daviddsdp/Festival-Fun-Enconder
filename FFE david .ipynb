{
 "cells": [
  {
   "cell_type": "code",
   "execution_count": null,
   "metadata": {
    "scrolled": true
   },
   "outputs": [
    {
     "name": "stdout",
     "output_type": "stream",
     "text": [
      "Type here your encoded fun, then where and when you offer it us:wein trinken heute \n",
      "Tell me please about your fun. Then when and where youre looking for: heute\n",
      "Something happen let you know!\n",
      "Tell me please about your fun. Then when and where youre looking for:bier\n",
      "Notting happen around the world.\n"
     ]
    }
   ],
   "source": [
    "import re\n",
    "\n",
    "c = {\" \":\"|\",\".\":\"|\",\",\":\"|\",\"?\":\"|\",\"!\":\"|\"}\n",
    "\n",
    "a = input('Type here your encoded fun, then where and when you offer it us:')\n",
    "\n",
    "def replaced_all(a,c):\n",
    "    for i, j in dic.iteritems():\n",
    "        text = text.replace(i,j)\n",
    "    print(a)      \n",
    "\n",
    "\n",
    "\n",
    "while True:\n",
    "    b = input('Tell me please about your fun. Then when and where youre looking for:')\n",
    "    if  re.search(b,a):\n",
    "        print('Something happen let you know!')\n",
    "    else:\n",
    "        print('Notting happen around the world.')  \n",
    "  "
   ]
  },
  {
   "cell_type": "code",
   "execution_count": null,
   "metadata": {},
   "outputs": [],
   "source": []
  },
  {
   "cell_type": "code",
   "execution_count": null,
   "metadata": {},
   "outputs": [],
   "source": []
  }
 ],
 "metadata": {
  "kernelspec": {
   "display_name": "Python 3",
   "language": "python",
   "name": "python3"
  },
  "language_info": {
   "codemirror_mode": {
    "name": "ipython",
    "version": 3
   },
   "file_extension": ".py",
   "mimetype": "text/x-python",
   "name": "python",
   "nbconvert_exporter": "python",
   "pygments_lexer": "ipython3",
   "version": "3.7.3"
  }
 },
 "nbformat": 4,
 "nbformat_minor": 2
}
