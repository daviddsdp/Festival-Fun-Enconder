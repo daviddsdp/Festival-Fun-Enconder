{
 "cells": [
  {
   "cell_type": "code",
   "execution_count": null,
   "metadata": {
    "scrolled": true
   },
   "outputs": [],
   "source": [
    "import re\n",
    "\n",
    "\n",
    "a = re.sub(\" \",\"|\",input('Type here your encoded fun, then where and when you offer it us:'))\n",
    "\n",
    "    \n",
    "\n",
    "while True:\n",
    "    b = input('Tell me please about your fun. Then when and where youre looking for. One word per input is enough:')\n",
    "    if  re.search(a,b):\n",
    "        print('Something happen let you know!')\n",
    "    else:\n",
    "        print('Notting happen around the world.')  \n"
   ]
  },
  {
   "cell_type": "code",
   "execution_count": null,
   "metadata": {},
   "outputs": [],
   "source": []
  }
 ],
 "metadata": {
  "kernelspec": {
   "display_name": "Python 3",
   "language": "python",
   "name": "python3"
  },
  "language_info": {
   "codemirror_mode": {
    "name": "ipython",
    "version": 3
   },
   "file_extension": ".py",
   "mimetype": "text/x-python",
   "name": "python",
   "nbconvert_exporter": "python",
   "pygments_lexer": "ipython3",
   "version": "3.6.7"
  }
 },
 "nbformat": 4,
 "nbformat_minor": 2
}
