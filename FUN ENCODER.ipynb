{
 "cells": [
  {
   "cell_type": "code",
   "execution_count": null,
   "metadata": {
    "scrolled": true
   },
   "outputs": [
    {
     "name": "stdout",
     "output_type": "stream",
     "text": [
      "Paste here your encoded fun, then where and when you offer it us:d dahin gehen. in bett pennen. gehen.\n",
      "d|dahin|gehen||in|bett|pennen||gehen|\n"
     ]
    }
   ],
   "source": [
    "import re\n",
    "\n",
    "a = input('Paste here your encoded fun, then where and when you offer it us:') # offer\n",
    "\n",
    "a = a.replace(\" \",\"|\").replace(\".\",\"|\") # encode tool\n",
    "\n",
    "\n",
    "    \n",
    "\n",
    "while True:\n",
    "    b = input('Tell me please about your fun. Then when and where youre looking for. One word per input is enough:') # demand\n",
    "    if  re.search(a,b):\n",
    "        print('Something happen let you know!') # answer1\n",
    "    else:\n",
    "        print('Notting happen around the world.') # answer2  \n"
   ]
  },
  {
   "cell_type": "code",
   "execution_count": null,
   "metadata": {},
   "outputs": [],
   "source": []
  },
  {
   "cell_type": "code",
   "execution_count": null,
   "metadata": {},
   "outputs": [],
   "source": []
  }
 ],
 "metadata": {
  "kernelspec": {
   "display_name": "Python 3",
   "language": "python",
   "name": "python3"
  },
  "language_info": {
   "codemirror_mode": {
    "name": "ipython",
    "version": 3
   },
   "file_extension": ".py",
   "mimetype": "text/x-python",
   "name": "python",
   "nbconvert_exporter": "python",
   "pygments_lexer": "ipython3",
   "version": "3.7.3"
  }
 },
 "nbformat": 4,
 "nbformat_minor": 2
}
